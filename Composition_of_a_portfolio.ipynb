{
  "nbformat": 4,
  "nbformat_minor": 0,
  "metadata": {
    "colab": {
      "name": "Composition of a portfolio.ipynb",
      "provenance": [],
      "authorship_tag": "ABX9TyMqD54O+qBI8I+sIASuScth",
      "include_colab_link": true
    },
    "kernelspec": {
      "name": "python3",
      "display_name": "Python 3"
    },
    "language_info": {
      "name": "python"
    }
  },
  "cells": [
    {
      "cell_type": "markdown",
      "metadata": {
        "id": "view-in-github",
        "colab_type": "text"
      },
      "source": [
        "<a href=\"https://colab.research.google.com/github/SWINKY360/markets/blob/main/Composition_of_a_portfolio.ipynb\" target=\"_parent\"><img src=\"https://colab.research.google.com/assets/colab-badge.svg\" alt=\"Open In Colab\"/></a>"
      ]
    },
    {
      "cell_type": "code",
      "source": [
        "import math"
      ],
      "metadata": {
        "id": "d8OFn7WfNgWN"
      },
      "execution_count": 13,
      "outputs": []
    },
    {
      "cell_type": "code",
      "execution_count": 14,
      "metadata": {
        "id": "Y2Gio3jBNV9P"
      },
      "outputs": [],
      "source": [
        "def composition(k,n=10_000): #creates function where K is the number of companies and N= number of dollars\n",
        "  c= math.factorial(n+k-1)//(math.factorial(n)*math.factorial(k-1))\n",
        "  print(c)\n",
        "  ## science = str(c)\n",
        "  ## print(\"This number has\", len(science),\"digits.\")"
      ]
    },
    {
      "cell_type": "code",
      "source": [
        "composition(3,100)"
      ],
      "metadata": {
        "colab": {
          "base_uri": "https://localhost:8080/"
        },
        "id": "FnINJE4QNYG2",
        "outputId": "07f35b34-27c8-4232-98e6-0cfcff80c1da"
      },
      "execution_count": 15,
      "outputs": [
        {
          "output_type": "stream",
          "name": "stdout",
          "text": [
            "5151\n"
          ]
        }
      ]
    },
    {
      "cell_type": "code",
      "source": [
        "c= []\n",
        "for i in range(1,11):\n",
        "  w = (composition(i,100))\n",
        "  c.append(w)"
      ],
      "metadata": {
        "colab": {
          "base_uri": "https://localhost:8080/"
        },
        "id": "5vcky2gCTKHi",
        "outputId": "76a2db7e-a9a4-42bc-f64b-6804cd97d296"
      },
      "execution_count": 16,
      "outputs": [
        {
          "output_type": "stream",
          "name": "stdout",
          "text": [
            "1\n",
            "101\n",
            "5151\n",
            "176851\n",
            "4598126\n",
            "96560646\n",
            "1705904746\n",
            "26075972546\n",
            "352025629371\n",
            "4263421511271\n"
          ]
        }
      ]
    }
  ]
}